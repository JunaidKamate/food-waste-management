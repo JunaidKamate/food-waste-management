{
 "cells": [
  {
   "cell_type": "code",
   "execution_count": 2,
   "id": "3d84f6bd-ab87-4649-9449-b8f69981a453",
   "metadata": {},
   "outputs": [
    {
     "name": "stdout",
     "output_type": "stream",
     "text": [
      "Requirement already satisfied: pandas in c:\\users\\junai\\food_wastage_db\\.venv\\lib\\site-packages (2.3.1)\n",
      "Requirement already satisfied: numpy>=1.26.0 in c:\\users\\junai\\food_wastage_db\\.venv\\lib\\site-packages (from pandas) (2.3.2)\n",
      "Requirement already satisfied: python-dateutil>=2.8.2 in c:\\users\\junai\\food_wastage_db\\.venv\\lib\\site-packages (from pandas) (2.9.0.post0)\n",
      "Requirement already satisfied: pytz>=2020.1 in c:\\users\\junai\\food_wastage_db\\.venv\\lib\\site-packages (from pandas) (2025.2)\n",
      "Requirement already satisfied: tzdata>=2022.7 in c:\\users\\junai\\food_wastage_db\\.venv\\lib\\site-packages (from pandas) (2025.2)\n",
      "Requirement already satisfied: six>=1.5 in c:\\users\\junai\\food_wastage_db\\.venv\\lib\\site-packages (from python-dateutil>=2.8.2->pandas) (1.17.0)\n",
      "Note: you may need to restart the kernel to use updated packages.\n"
     ]
    }
   ],
   "source": [
    "pip install pandas\n"
   ]
  },
  {
   "cell_type": "code",
   "execution_count": 3,
   "id": "7538fadd-6642-493d-b8f8-5b5dcfe3a6fc",
   "metadata": {},
   "outputs": [
    {
     "name": "stdout",
     "output_type": "stream",
     "text": [
      "food_listings columns BEFORE: ['Food_ID', 'Food_Name', 'Quantity', 'Expiry_Date', 'Location', 'Provider_ID', 'Provider_Type']\n",
      "Provider_Type already exists — skipping ADD COLUMN.\n"
     ]
    },
    {
     "ename": "OperationalError",
     "evalue": "no such column: p.Provider_Type",
     "output_type": "error",
     "traceback": [
      "\u001b[31m---------------------------------------------------------------------------\u001b[39m",
      "\u001b[31mOperationalError\u001b[39m                          Traceback (most recent call last)",
      "\u001b[36mCell\u001b[39m\u001b[36m \u001b[39m\u001b[32mIn[3]\u001b[39m\u001b[32m, line 23\u001b[39m\n\u001b[32m     20\u001b[39m     \u001b[38;5;28mprint\u001b[39m(\u001b[33m\"\u001b[39m\u001b[33mProvider_Type already exists — skipping ADD COLUMN.\u001b[39m\u001b[33m\"\u001b[39m)\n\u001b[32m     22\u001b[39m \u001b[38;5;66;03m# 3) Backfill Provider_Type from providers table using Provider_ID\u001b[39;00m\n\u001b[32m---> \u001b[39m\u001b[32m23\u001b[39m \u001b[43mcur\u001b[49m\u001b[43m.\u001b[49m\u001b[43mexecute\u001b[49m\u001b[43m(\u001b[49m\u001b[33;43m\"\"\"\u001b[39;49m\n\u001b[32m     24\u001b[39m \u001b[33;43mUPDATE food_listings\u001b[39;49m\n\u001b[32m     25\u001b[39m \u001b[33;43mSET Provider_Type = (\u001b[39;49m\n\u001b[32m     26\u001b[39m \u001b[33;43m    SELECT p.Provider_Type\u001b[39;49m\n\u001b[32m     27\u001b[39m \u001b[33;43m    FROM providers p\u001b[39;49m\n\u001b[32m     28\u001b[39m \u001b[33;43m    WHERE p.Provider_ID = food_listings.Provider_ID\u001b[39;49m\n\u001b[32m     29\u001b[39m \u001b[33;43m)\u001b[39;49m\n\u001b[32m     30\u001b[39m \u001b[33;43mWHERE Provider_ID IS NOT NULL;\u001b[39;49m\n\u001b[32m     31\u001b[39m \u001b[33;43m\"\"\"\u001b[39;49m\u001b[43m)\u001b[49m\n\u001b[32m     32\u001b[39m \u001b[38;5;28mprint\u001b[39m(\u001b[33m\"\u001b[39m\u001b[33mBackfilled Provider_Type from providers.\u001b[39m\u001b[33m\"\u001b[39m)\n\u001b[32m     34\u001b[39m \u001b[38;5;66;03m# 4) Set any remaining NULLs to 'Unknown'\u001b[39;00m\n",
      "\u001b[31mOperationalError\u001b[39m: no such column: p.Provider_Type"
     ]
    }
   ],
   "source": [
    "import sqlite3\n",
    "import pandas as pd\n",
    "\n",
    "# If your DB is in this folder, keep this path. Otherwise, point to its exact location.\n",
    "db_path = r\"C:\\Users\\junai\\food_wastage_DB\\lfwms.db\"\n",
    "\n",
    "conn = sqlite3.connect(db_path)\n",
    "cur = conn.cursor()\n",
    "\n",
    "# 1) See current columns in food_listings\n",
    "cur.execute(\"PRAGMA table_info(food_listings);\")\n",
    "cols = [row[1] for row in cur.fetchall()]\n",
    "print(\"food_listings columns BEFORE:\", cols)\n",
    "\n",
    "# 2) Add Provider_Type column if it's missing\n",
    "if \"Provider_Type\" not in cols:\n",
    "    cur.execute(\"ALTER TABLE food_listings ADD COLUMN Provider_Type TEXT;\")\n",
    "    print(\"Added column: Provider_Type\")\n",
    "else:\n",
    "    print(\"Provider_Type already exists — skipping ADD COLUMN.\")\n",
    "\n",
    "# 3) Backfill Provider_Type from providers table using Provider_ID\n",
    "cur.execute(\"\"\"\n",
    "UPDATE food_listings\n",
    "SET Provider_Type = (\n",
    "    SELECT p.Provider_Type\n",
    "    FROM providers p\n",
    "    WHERE p.Provider_ID = food_listings.Provider_ID\n",
    ")\n",
    "WHERE Provider_ID IS NOT NULL;\n",
    "\"\"\")\n",
    "print(\"Backfilled Provider_Type from providers.\")\n",
    "\n",
    "# 4) Set any remaining NULLs to 'Unknown'\n",
    "cur.execute(\"\"\"\n",
    "UPDATE food_listings\n",
    "SET Provider_Type = COALESCE(Provider_Type, 'Unknown');\n",
    "\"\"\")\n",
    "print(\"Filled NULL Provider_Type with 'Unknown'.\")\n",
    "\n",
    "conn.commit()\n",
    "\n",
    "# 5) Verify: preview the 10 newest by Expiry_Date\n",
    "df_preview = pd.read_sql_query(\"\"\"\n",
    "SELECT Food_ID, Food_Name, Quantity, DATE(Expiry_Date) AS Expiry_Date,\n",
    "       Provider_ID, Provider_Type, Location, Food_Type, Meal_Type\n",
    "FROM food_listings\n",
    "ORDER BY DATE(Expiry_Date) DESC\n",
    "LIMIT 10;\n",
    "\"\"\", conn)\n",
    "print(\"\\nPreview of 10 newest listings:\")\n",
    "print(df_preview)\n",
    "\n",
    "# 6) Verify: counts by Provider_Type\n",
    "df_counts = pd.read_sql_query(\"\"\"\n",
    "SELECT Provider_Type, COUNT(*) AS n\n",
    "FROM food_listings\n",
    "GROUP BY Provider_Type\n",
    "ORDER BY n DESC;\n",
    "\"\"\", conn)\n",
    "print(\"\\nCounts by Provider_Type:\")\n",
    "print(df_counts)\n",
    "\n",
    "conn.close()\n"
   ]
  },
  {
   "cell_type": "code",
   "execution_count": 4,
   "id": "09a02f1b-7b33-424a-8b2f-406444798404",
   "metadata": {},
   "outputs": [
    {
     "name": "stdout",
     "output_type": "stream",
     "text": [
      "providers columns: ['Provider_ID', 'Name', 'Type', 'Contact', 'City']\n"
     ]
    }
   ],
   "source": [
    "import sqlite3\n",
    "\n",
    "db_path = r\"C:\\Users\\junai\\food_wastage_DB\\lfwms.db\"\n",
    "conn = sqlite3.connect(db_path)\n",
    "cur = conn.cursor()\n",
    "\n",
    "cur.execute(\"PRAGMA table_info(providers);\")\n",
    "cols = [row[1] for row in cur.fetchall()]\n",
    "print(\"providers columns:\", cols)\n",
    "\n",
    "conn.close()\n"
   ]
  },
  {
   "cell_type": "code",
   "execution_count": null,
   "id": "52e7df9e-85ec-43c1-8a1d-469a2367459e",
   "metadata": {},
   "outputs": [],
   "source": []
  }
 ],
 "metadata": {
  "kernelspec": {
   "display_name": "Python 3 (ipykernel)",
   "language": "python",
   "name": "python3"
  },
  "language_info": {
   "codemirror_mode": {
    "name": "ipython",
    "version": 3
   },
   "file_extension": ".py",
   "mimetype": "text/x-python",
   "name": "python",
   "nbconvert_exporter": "python",
   "pygments_lexer": "ipython3",
   "version": "3.13.6"
  }
 },
 "nbformat": 4,
 "nbformat_minor": 5
}
