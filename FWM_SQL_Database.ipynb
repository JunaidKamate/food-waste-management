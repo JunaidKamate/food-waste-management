{
 "cells": [
  {
   "cell_type": "markdown",
   "id": "52a6c22a-0185-4fa5-805a-53a3c0dc47a1",
   "metadata": {},
   "source": [
    "# FOOD WASTE MANAGEMENT"
   ]
  },
  {
   "cell_type": "markdown",
   "id": "94e3e9f2-11b3-4091-8641-e688549aa6e6",
   "metadata": {},
   "source": [
    "## SQL DATABASE"
   ]
  },
  {
   "cell_type": "code",
   "execution_count": 2,
   "id": "db9fcf9e-6042-4f34-b6ed-5be05bb9fe36",
   "metadata": {},
   "outputs": [
    {
     "name": "stdout",
     "output_type": "stream",
     "text": [
      "✅ Tables created successfully.\n",
      "✅ Data loaded into database.\n",
      "providers: 1000 rows\n",
      "receivers: 1000 rows\n",
      "food_listings: 1000 rows\n",
      "claims: 1000 rows\n"
     ]
    }
   ],
   "source": [
    "import sqlite3\n",
    "import pandas as pd\n",
    "\n",
    "# Connect to SQLite \n",
    "conn = sqlite3.connect(\"lfwms.db\")\n",
    "cursor = conn.cursor()\n",
    "\n",
    "# === Step 1: Create Tables ===\n",
    "cursor.executescript(\"\"\"\n",
    "DROP TABLE IF EXISTS claims;\n",
    "DROP TABLE IF EXISTS food_listings;\n",
    "DROP TABLE IF EXISTS receivers;\n",
    "DROP TABLE IF EXISTS providers;\n",
    "\n",
    "CREATE TABLE providers (\n",
    "    Provider_ID INTEGER PRIMARY KEY,\n",
    "    Name TEXT,\n",
    "    Type TEXT,\n",
    "    Address TEXT,\n",
    "    City TEXT,\n",
    "    Contact TEXT\n",
    ");\n",
    "\n",
    "CREATE TABLE receivers (\n",
    "    Receiver_ID INTEGER PRIMARY KEY,\n",
    "    Name TEXT,\n",
    "    Type TEXT,\n",
    "    City TEXT,\n",
    "    Contact TEXT\n",
    ");\n",
    "\n",
    "CREATE TABLE food_listings (\n",
    "    Food_ID INTEGER PRIMARY KEY,\n",
    "    Food_Name TEXT,\n",
    "    Quantity INTEGER CHECK (Quantity > 0),\n",
    "    Expiry_Date DATE,\n",
    "    Provider_ID INTEGER,\n",
    "    Provider_Type TEXT,\n",
    "    Location TEXT,\n",
    "    Food_Type TEXT,\n",
    "    Meal_Type TEXT,\n",
    "    FOREIGN KEY (Provider_ID) REFERENCES providers(Provider_ID)\n",
    ");\n",
    "\n",
    "CREATE TABLE claims (\n",
    "    Claim_ID INTEGER PRIMARY KEY,\n",
    "    Food_ID INTEGER,\n",
    "    Receiver_ID INTEGER,\n",
    "    Status TEXT CHECK (Status IN ('Pending','Completed','Cancelled')),\n",
    "    Timestamp DATETIME,\n",
    "    FOREIGN KEY (Food_ID) REFERENCES food_listings(Food_ID),\n",
    "    FOREIGN KEY (Receiver_ID) REFERENCES receivers(Receiver_ID)\n",
    ");\n",
    "\"\"\")\n",
    "conn.commit()\n",
    "\n",
    "print(\"✅ Tables created successfully.\")\n",
    "\n",
    "# === Step 2: Load Clean Data into Tables ===\n",
    "providers = pd.read_csv(\"clean/providers.csv\")\n",
    "receivers = pd.read_csv(\"clean/receivers.csv\")\n",
    "food_listings = pd.read_csv(\"clean/food_listings.csv\")\n",
    "claims = pd.read_csv(\"clean/claims.csv\")\n",
    "\n",
    "providers.to_sql(\"providers\", conn, if_exists=\"append\", index=False)\n",
    "receivers.to_sql(\"receivers\", conn, if_exists=\"append\", index=False)\n",
    "food_listings.to_sql(\"food_listings\", conn, if_exists=\"append\", index=False)\n",
    "claims.to_sql(\"claims\", conn, if_exists=\"append\", index=False)\n",
    "\n",
    "print(\"✅ Data loaded into database.\")\n",
    "\n",
    "# === Step 3: Row Counts Check ===\n",
    "for table in [\"providers\", \"receivers\", \"food_listings\", \"claims\"]:\n",
    "    count = cursor.execute(f\"SELECT COUNT(*) FROM {table}\").fetchone()[0]\n",
    "    print(f\"{table}: {count} rows\")\n",
    "\n",
    "# Keeping connection open for next CRUD demo\n"
   ]
  },
  {
   "cell_type": "markdown",
   "id": "0e1dea83-1495-4437-afa0-47a9c0dcb076",
   "metadata": {},
   "source": [
    "## CRUD OPERATIONS DEMO"
   ]
  },
  {
   "cell_type": "code",
   "execution_count": 3,
   "id": "c6d2a7d5-0432-40fb-b98a-d693b70f7cfc",
   "metadata": {},
   "outputs": [
    {
     "name": "stdout",
     "output_type": "stream",
     "text": [
      "\n",
      "=== CRUD Operations ===\n",
      "CREATE ✅ Added new food listing.\n",
      "READ ✅ Sample listings in Mumbai:\n",
      "(2001, 'Rice Packets', 50, 'Mumbai')\n",
      "UPDATE ✅ Claim_ID=1 marked as Completed.\n",
      "DELETE ✅ Removed the test food listing (Food_ID=2001).\n"
     ]
    }
   ],
   "source": [
    "# === Step 4: CRUD Operations Demo ===\n",
    "\n",
    "print(\"\\n=== CRUD Operations ===\")\n",
    "\n",
    "# CREATE: Insert a new food listing\n",
    "cursor.execute(\"\"\"\n",
    "INSERT INTO food_listings (Food_ID, Food_Name, Quantity, Expiry_Date, Provider_ID, Provider_Type, Location, Food_Type, Meal_Type)\n",
    "VALUES (?, ?, ?, ?, ?, ?, ?, ?, ?)\n",
    "\"\"\", (2001, \"Rice Packets\", 50, \"2025-08-30\", 1, \"Supermarket\", \"Mumbai\", \"Veg\", \"Dinner\"))\n",
    "conn.commit()\n",
    "print(\"CREATE ✅ Added new food listing.\")\n",
    "\n",
    "# READ: Fetch food listings in Mumbai\n",
    "rows = cursor.execute(\"SELECT Food_ID, Food_Name, Quantity, Location FROM food_listings WHERE Location='Mumbai' LIMIT 5\").fetchall()\n",
    "print(\"READ ✅ Sample listings in Mumbai:\")\n",
    "for row in rows:\n",
    "    print(row)\n",
    "\n",
    "# UPDATE: Mark a claim as Completed\n",
    "cursor.execute(\"UPDATE claims SET Status='Completed' WHERE Claim_ID=1\")\n",
    "conn.commit()\n",
    "print(\"UPDATE ✅ Claim_ID=1 marked as Completed.\")\n",
    "\n",
    "# DELETE: Remove a cancelled listing\n",
    "cursor.execute(\"DELETE FROM food_listings WHERE Food_ID=2001\")\n",
    "conn.commit()\n",
    "print(\"DELETE ✅ Removed the test food listing (Food_ID=2001).\")\n"
   ]
  },
  {
   "cell_type": "code",
   "execution_count": 4,
   "id": "f1a1e134-87ad-4803-b2db-51448e72d0cc",
   "metadata": {},
   "outputs": [],
   "source": [
    "conn.commit()   # save changes\n",
    "conn.close()    # close properly\n"
   ]
  },
  {
   "cell_type": "code",
   "execution_count": 5,
   "id": "398bd190-7d21-4dc7-98f4-03985f19a6fa",
   "metadata": {},
   "outputs": [],
   "source": [
    "conn = sqlite3.connect(\"lfwms.db\")\n"
   ]
  },
  {
   "cell_type": "code",
   "execution_count": null,
   "id": "6348d87d-b61d-450c-960c-b94c4d0c216b",
   "metadata": {},
   "outputs": [],
   "source": []
  },
  {
   "cell_type": "code",
   "execution_count": null,
   "id": "764175ec-357d-4e94-bc08-66d39517d8d4",
   "metadata": {},
   "outputs": [],
   "source": []
  },
  {
   "cell_type": "code",
   "execution_count": null,
   "id": "46e8b71b-e0d5-4c1a-b818-10014c7753d4",
   "metadata": {},
   "outputs": [],
   "source": []
  },
  {
   "cell_type": "code",
   "execution_count": null,
   "id": "5695d9f6-c419-4bb7-9741-607d902a09cf",
   "metadata": {},
   "outputs": [],
   "source": []
  },
  {
   "cell_type": "code",
   "execution_count": null,
   "id": "19b38b13-3274-4a40-b20b-ceb1e2e807cf",
   "metadata": {},
   "outputs": [],
   "source": []
  },
  {
   "cell_type": "code",
   "execution_count": null,
   "id": "a436adf8-131b-439e-b064-e565e244c0e8",
   "metadata": {},
   "outputs": [],
   "source": []
  },
  {
   "cell_type": "code",
   "execution_count": null,
   "id": "10c1e51f-fcf3-4b4f-9152-abb2bf0dff69",
   "metadata": {},
   "outputs": [],
   "source": []
  },
  {
   "cell_type": "code",
   "execution_count": null,
   "id": "65f5bcd5-c0ce-453d-b604-b4e332dfe237",
   "metadata": {},
   "outputs": [],
   "source": []
  },
  {
   "cell_type": "code",
   "execution_count": null,
   "id": "11a1ed54-a305-4442-b174-0e375049f94f",
   "metadata": {},
   "outputs": [],
   "source": []
  },
  {
   "cell_type": "code",
   "execution_count": null,
   "id": "096ce9f3-b347-4afc-a7bc-25339f6181b3",
   "metadata": {},
   "outputs": [],
   "source": []
  },
  {
   "cell_type": "code",
   "execution_count": null,
   "id": "4bd1393a-f3cd-4628-b813-c0f7fc6507b2",
   "metadata": {},
   "outputs": [],
   "source": []
  },
  {
   "cell_type": "code",
   "execution_count": null,
   "id": "ed1bef4b-e75b-44c3-8973-da831c7feae5",
   "metadata": {},
   "outputs": [],
   "source": []
  },
  {
   "cell_type": "code",
   "execution_count": null,
   "id": "6b5c5ee2-84b8-4829-bfd1-d8851e31f6ac",
   "metadata": {},
   "outputs": [],
   "source": []
  }
 ],
 "metadata": {
  "kernelspec": {
   "display_name": "Python 3 (ipykernel)",
   "language": "python",
   "name": "python3"
  },
  "language_info": {
   "codemirror_mode": {
    "name": "ipython",
    "version": 3
   },
   "file_extension": ".py",
   "mimetype": "text/x-python",
   "name": "python",
   "nbconvert_exporter": "python",
   "pygments_lexer": "ipython3",
   "version": "3.12.7"
  }
 },
 "nbformat": 4,
 "nbformat_minor": 5
}
